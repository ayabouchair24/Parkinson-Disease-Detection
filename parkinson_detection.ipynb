{
 "cells": [
  {
   "cell_type": "code",
   "execution_count": 1,
   "metadata": {},
   "outputs": [],
   "source": [
    "from ucimlrepo import fetch_ucirepo \n",
    "import pandas as pd\n",
    "import matplotlib.pyplot as plt\n",
    "from sklearn.preprocessing import StandardScaler, MinMaxScaler\n",
    "\n",
    "#import seaborn as sns"
   ]
  },
  {
   "cell_type": "code",
   "execution_count": 7,
   "metadata": {},
   "outputs": [],
   "source": [
    "# fetch dataset \n",
    "parkinsons = fetch_ucirepo(id=174) "
   ]
  },
  {
   "cell_type": "markdown",
   "metadata": {},
   "source": [
    "The parkinsons.data.targets attribute explicitly specifies which part of the dataset contains the target variable. When you fetch a dataset using fetch_ucirepo, the dataset object typically contains attributes like data and targets, or similarly named attributes, which are predefined by the dataset itself.\n",
    "\n",
    "in machine learning, we typically refer to the data used to make predictions as features and the actual thing we're trying to predict as the target variable.\n"
   ]
  },
  {
   "cell_type": "code",
   "execution_count": 9,
   "metadata": {},
   "outputs": [],
   "source": [
    "# data (as pandas dataframes) \n",
    "X = parkinsons.data.features \n",
    "y = parkinsons.data.targets "
   ]
  },
  {
   "cell_type": "code",
   "execution_count": 10,
   "metadata": {},
   "outputs": [
    {
     "name": "stdout",
     "output_type": "stream",
     "text": [
      "{'uci_id': 174, 'name': 'Parkinsons', 'repository_url': 'https://archive.ics.uci.edu/dataset/174/parkinsons', 'data_url': 'https://archive.ics.uci.edu/static/public/174/data.csv', 'abstract': \"Oxford Parkinson's Disease Detection Dataset\", 'area': 'Health and Medicine', 'tasks': ['Classification'], 'characteristics': ['Multivariate'], 'num_instances': 197, 'num_features': 22, 'feature_types': ['Real'], 'demographics': [], 'target_col': ['status'], 'index_col': ['name'], 'has_missing_values': 'no', 'missing_values_symbol': None, 'year_of_dataset_creation': 2007, 'last_updated': 'Wed Feb 14 2024', 'dataset_doi': '10.24432/C59C74', 'creators': ['Max Little'], 'intro_paper': {'title': 'Exploiting Nonlinear Recurrence and Fractal Scaling Properties for Voice Disorder Detection', 'authors': 'Max A. Little, P. McSharry, S. Roberts, D. Costello, I. Moroz', 'published_in': 'BioMedical Engineering OnLine', 'year': 2007, 'url': 'https://www.semanticscholar.org/paper/27e1dcd0d64bfc9d936e597d4f29b80c21571936', 'doi': '10.1186/1475-925X-6-23'}, 'additional_info': {'summary': 'This dataset is composed of a range of biomedical voice measurements from 31 people, 23 with Parkinson\\'s disease (PD). Each column in the table is a particular voice measure, and each row corresponds one of 195 voice recording from these individuals (\"name\" column). The main aim of the data is to discriminate healthy people from those with PD, according to \"status\" column which is set to 0 for healthy and 1 for PD. \\r\\n\\r\\nThe data is in ASCII CSV format. The rows of the CSV file contain an instance corresponding to one voice recording. There are around six recordings per patient, the name of the patient is identified in the first column.For further information or to pass on comments, please contact Max Little (littlem \\'@\\' robots.ox.ac.uk).\\r\\n\\r\\nFurther details are contained in the following reference -- if you use this dataset, please cite:\\r\\nMax A. Little, Patrick E. McSharry, Eric J. Hunter, Lorraine O. Ramig (2008), \\'Suitability of dysphonia measurements for telemonitoring of Parkinson\\'s disease\\', IEEE Transactions on Biomedical Engineering (to appear).', 'purpose': None, 'funded_by': None, 'instances_represent': None, 'recommended_data_splits': None, 'sensitive_data': None, 'preprocessing_description': None, 'variable_info': \"Matrix column entries (attributes):\\r\\nname - ASCII subject name and recording number\\r\\nMDVP:Fo(Hz) - Average vocal fundamental frequency\\r\\nMDVP:Fhi(Hz) - Maximum vocal fundamental frequency\\r\\nMDVP:Flo(Hz) - Minimum vocal fundamental frequency\\r\\nMDVP:Jitter(%),MDVP:Jitter(Abs),MDVP:RAP,MDVP:PPQ,Jitter:DDP - Several measures of variation in fundamental frequency\\r\\nMDVP:Shimmer,MDVP:Shimmer(dB),Shimmer:APQ3,Shimmer:APQ5,MDVP:APQ,Shimmer:DDA - Several measures of variation in amplitude\\r\\nNHR,HNR - Two measures of ratio of noise to tonal components in the voice\\r\\nstatus - Health status of the subject (one) - Parkinson's, (zero) - healthy\\r\\nRPDE,D2 - Two nonlinear dynamical complexity measures\\r\\nDFA - Signal fractal scaling exponent\\r\\nspread1,spread2,PPE - Three nonlinear measures of fundamental frequency variation\\r\\n\", 'citation': None}}\n"
     ]
    }
   ],
   "source": [
    "print(parkinsons.metadata) "
   ]
  },
  {
   "cell_type": "code",
   "execution_count": 11,
   "metadata": {},
   "outputs": [
    {
     "name": "stdout",
     "output_type": "stream",
     "text": [
      "            name     role         type demographic description units  \\\n",
      "0           name       ID  Categorical        None        None  None   \n",
      "1        MDVP:Fo  Feature   Continuous        None        None    Hz   \n",
      "2       MDVP:Fhi  Feature   Continuous        None        None    Hz   \n",
      "3       MDVP:Flo  Feature   Continuous        None        None    Hz   \n",
      "4    MDVP:Jitter  Feature   Continuous        None        None     %   \n",
      "5    MDVP:Jitter  Feature   Continuous        None        None   Abs   \n",
      "6       MDVP:RAP  Feature   Continuous        None        None  None   \n",
      "7       MDVP:PPQ  Feature   Continuous        None        None  None   \n",
      "8     Jitter:DDP  Feature   Continuous        None        None  None   \n",
      "9   MDVP:Shimmer  Feature   Continuous        None        None  None   \n",
      "10  MDVP:Shimmer  Feature   Continuous        None        None    dB   \n",
      "11  Shimmer:APQ3  Feature   Continuous        None        None  None   \n",
      "12  Shimmer:APQ5  Feature   Continuous        None        None  None   \n",
      "13      MDVP:APQ  Feature   Continuous        None        None  None   \n",
      "14   Shimmer:DDA  Feature   Continuous        None        None  None   \n",
      "15           NHR  Feature   Continuous        None        None  None   \n",
      "16           HNR  Feature   Continuous        None        None  None   \n",
      "17        status   Target      Integer        None        None  None   \n",
      "18          RPDE  Feature   Continuous        None        None  None   \n",
      "19           DFA  Feature   Continuous        None        None  None   \n",
      "20       spread1  Feature   Continuous        None        None  None   \n",
      "21       spread2  Feature   Continuous        None        None  None   \n",
      "22            D2  Feature   Continuous        None        None  None   \n",
      "23           PPE  Feature   Continuous        None        None  None   \n",
      "\n",
      "   missing_values  \n",
      "0              no  \n",
      "1              no  \n",
      "2              no  \n",
      "3              no  \n",
      "4              no  \n",
      "5              no  \n",
      "6              no  \n",
      "7              no  \n",
      "8              no  \n",
      "9              no  \n",
      "10             no  \n",
      "11             no  \n",
      "12             no  \n",
      "13             no  \n",
      "14             no  \n",
      "15             no  \n",
      "16             no  \n",
      "17             no  \n",
      "18             no  \n",
      "19             no  \n",
      "20             no  \n",
      "21             no  \n",
      "22             no  \n",
      "23             no  \n"
     ]
    }
   ],
   "source": [
    "print(parkinsons.variables) "
   ]
  },
  {
   "cell_type": "code",
   "execution_count": 12,
   "metadata": {},
   "outputs": [
    {
     "name": "stdout",
     "output_type": "stream",
     "text": [
      "Dataset Information:\n",
      "<class 'pandas.core.frame.DataFrame'>\n",
      "RangeIndex: 195 entries, 0 to 194\n",
      "Data columns (total 23 columns):\n",
      " #   Column        Non-Null Count  Dtype  \n",
      "---  ------        --------------  -----  \n",
      " 0   MDVP:Fo       195 non-null    float64\n",
      " 1   MDVP:Fhi      195 non-null    float64\n",
      " 2   MDVP:Flo      195 non-null    float64\n",
      " 3   MDVP:Jitter   195 non-null    float64\n",
      " 4   MDVP:Jitter   195 non-null    float64\n",
      " 5   MDVP:RAP      195 non-null    float64\n",
      " 6   MDVP:PPQ      195 non-null    float64\n",
      " 7   Jitter:DDP    195 non-null    float64\n",
      " 8   MDVP:Shimmer  195 non-null    float64\n",
      " 9   MDVP:Shimmer  195 non-null    float64\n",
      " 10  Shimmer:APQ3  195 non-null    float64\n",
      " 11  Shimmer:APQ5  195 non-null    float64\n",
      " 12  MDVP:APQ      195 non-null    float64\n",
      " 13  Shimmer:DDA   195 non-null    float64\n",
      " 14  NHR           195 non-null    float64\n",
      " 15  HNR           195 non-null    float64\n",
      " 16  RPDE          195 non-null    float64\n",
      " 17  DFA           195 non-null    float64\n",
      " 18  spread1       195 non-null    float64\n",
      " 19  spread2       195 non-null    float64\n",
      " 20  D2            195 non-null    float64\n",
      " 21  PPE           195 non-null    float64\n",
      " 22  status        195 non-null    int64  \n",
      "dtypes: float64(22), int64(1)\n",
      "memory usage: 35.2 KB\n",
      "None\n"
     ]
    }
   ],
   "source": [
    "# Concatenate X and y to have a single dataframe for analysis\n",
    "df = pd.concat([X, y], axis=1)\n",
    "# Explore the structure of the dataset\n",
    "print(\"Dataset Information:\")\n",
    "print(df.info())"
   ]
  },
  {
   "cell_type": "markdown",
   "metadata": {},
   "source": [
    "## Determining Depentend & Independent Variables¶\n"
   ]
  },
  {
   "cell_type": "code",
   "execution_count": null,
   "metadata": {},
   "outputs": [],
   "source": [
    "# get features and labels\n",
    "\n",
    "x=df.loc[:,df.columns!='status'].values[:,1:]\n",
    "x1=df.loc[:,df.columns!='status']\n",
    "y=df.loc[:,'status'].values\n",
    "y1=df.loc[:,'status']"
   ]
  },
  {
   "cell_type": "markdown",
   "metadata": {},
   "source": [
    "## Analyzing Features"
   ]
  },
  {
   "cell_type": "code",
   "execution_count": 1,
   "metadata": {},
   "outputs": [
    {
     "ename": "NameError",
     "evalue": "name 'x1' is not defined",
     "output_type": "error",
     "traceback": [
      "\u001b[1;31m---------------------------------------------------------------------------\u001b[0m",
      "\u001b[1;31mNameError\u001b[0m                                 Traceback (most recent call last)",
      "Cell \u001b[1;32mIn[1], line 1\u001b[0m\n\u001b[1;32m----> 1\u001b[0m \u001b[43mx1\u001b[49m\u001b[38;5;241m.\u001b[39mhist(figsize\u001b[38;5;241m=\u001b[39m(\u001b[38;5;241m25\u001b[39m,\u001b[38;5;241m20\u001b[39m))\n\u001b[0;32m      2\u001b[0m plt\u001b[38;5;241m.\u001b[39mshow()\n",
      "\u001b[1;31mNameError\u001b[0m: name 'x1' is not defined"
     ]
    }
   ],
   "source": [
    "x1.hist(figsize=(25,20))\n",
    "plt.show()"
   ]
  },
  {
   "cell_type": "code",
   "execution_count": null,
   "metadata": {},
   "outputs": [],
   "source": [
    "df=df[df.max_fre<=300]\n",
    "df=df[df.var_fre1<=0.02]\n",
    "df=df[df.var_fre2<=0.0001]\n",
    "df=df[df.var_fre3<=0.01]\n",
    "df=df[df.var_fre4<=0.01]\n",
    "df=df[df.var_fre5<=0.02]\n",
    "df=df[df.var_amp1<=0.10]\n",
    "df=df[df.var_amp2<=1.0]\n",
    "df=df[df.var_amp3<=0.04]\n",
    "df=df[df.var_amp4<=0.050]\n",
    "df=df[df.var_amp5<=0.075]\n",
    "df=df[df.var_amp6<=0.125]\n",
    "df=df[df.NHR<=0.15]"
   ]
  },
  {
   "cell_type": "code",
   "execution_count": null,
   "metadata": {},
   "outputs": [],
   "source": [
    "df.skew()"
   ]
  },
  {
   "cell_type": "markdown",
   "metadata": {},
   "source": [
    "## Correlation Matrix"
   ]
  },
  {
   "cell_type": "code",
   "execution_count": null,
   "metadata": {},
   "outputs": [],
   "source": [
    "correl=x1.corr()\n",
    "plt.figure(figsize=(20,20))\n",
    "sns.heatmap(correl,annot=True,cmap='OrRd')\n",
    "plt.show()"
   ]
  },
  {
   "cell_type": "code",
   "execution_count": null,
   "metadata": {},
   "outputs": [],
   "source": [
    "#Scale the features to between -1 and 1\n",
    "scaler=MinMaxScaler((-1,1))\n",
    "x1=scaler.fit_transform(x)\n",
    "y1=y"
   ]
  },
  {
   "cell_type": "code",
   "execution_count": null,
   "metadata": {},
   "outputs": [],
   "source": [
    "#Split the dataset\n",
    "\n",
    "xtrain,xtest,ytrain,ytest=train_test_split(x1, y1, test_size=0.2)"
   ]
  },
  {
   "cell_type": "code",
   "execution_count": null,
   "metadata": {},
   "outputs": [],
   "source": [
    "# Train the model\n",
    "from xgboost import XGBClassifier\n",
    "\n",
    "\n",
    "model=XGBClassifier()\n",
    "model.fit(xtrain,ytrain)\n",
    "predict=model.predict(xtest)"
   ]
  },
  {
   "cell_type": "code",
   "execution_count": null,
   "metadata": {},
   "outputs": [],
   "source": [
    "print(accuracy_score(ytest,predict))"
   ]
  }
 ],
 "metadata": {
  "kernelspec": {
   "display_name": "Python 3",
   "language": "python",
   "name": "python3"
  },
  "language_info": {
   "codemirror_mode": {
    "name": "ipython",
    "version": 3
   },
   "file_extension": ".py",
   "mimetype": "text/x-python",
   "name": "python",
   "nbconvert_exporter": "python",
   "pygments_lexer": "ipython3",
   "version": "3.8.2"
  }
 },
 "nbformat": 4,
 "nbformat_minor": 2
}
